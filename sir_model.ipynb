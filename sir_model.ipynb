{
  "nbformat": 4,
  "nbformat_minor": 0,
  "metadata": {
    "colab": {
      "name": "sir-model.ipynb",
      "provenance": [],
      "collapsed_sections": [],
      "authorship_tag": "ABX9TyOWTCC5AXcDx5n7gmE6LHXK",
      "include_colab_link": true
    },
    "kernelspec": {
      "name": "python3",
      "display_name": "Python 3"
    }
  },
  "cells": [
    {
      "cell_type": "markdown",
      "metadata": {
        "id": "view-in-github",
        "colab_type": "text"
      },
      "source": [
        "<a href=\"https://colab.research.google.com/github/abc22413/SIR-Code/blob/master/sir_model.ipynb\" target=\"_parent\"><img src=\"https://colab.research.google.com/assets/colab-badge.svg\" alt=\"Open In Colab\"/></a>"
      ]
    },
    {
      "cell_type": "markdown",
      "metadata": {
        "id": "2NDQ0nhtMUFm",
        "colab_type": "text"
      },
      "source": [
        "# SEIR Model for COVID-19 outbreak in Singapore.\n",
        "Import data for initialisation\n",
        "\n",
        "Code adapted from: https://python.quantecon.org/sir_model.html"
      ]
    },
    {
      "cell_type": "code",
      "metadata": {
        "id": "1AbL4YqdLXtX",
        "colab_type": "code",
        "colab": {}
      },
      "source": [
        "from scipy.integrate import odeint\n",
        "import numpy as np"
      ],
      "execution_count": 13,
      "outputs": []
    },
    {
      "cell_type": "code",
      "metadata": {
        "id": "dPWQHG8FMFzR",
        "colab_type": "code",
        "colab": {}
      },
      "source": [
        "#Total population\n",
        "#UNData: http://data.un.org/Data.aspx?q=Singapore&d=PopDiv&f=variableID%3a12%3bcrID%3a702\n",
        "N = 5_850_342\n",
        "\n",
        "#MOH: https://www.moh.gov.sg/news-highlights/details/five-more-cases-discharged-74-new-cases-of-covid-19-infection-confirmed\n",
        "#Initial Infected\n",
        "I = 752\n",
        "#Initial Recovered\n",
        "R = 245\n",
        "#Initial Susceptible\n",
        "S = N-I-R\n",
        "#Initial Exposed\n",
        "E = 2*I"
      ],
      "execution_count": 14,
      "outputs": []
    },
    {
      "cell_type": "code",
      "metadata": {
        "id": "STaFa37KgbG3",
        "colab_type": "code",
        "colab": {}
      },
      "source": [
        "'''\n",
        "Model the trajectory of the epidemic over 182 days\n",
        "'''\n",
        "#Allow for Re (effective reproductive number) to be a function of time\n",
        "def F(x, R_eff):\n",
        "  #Disease Parameters\n",
        "  recovery_period = 14\n",
        "  incubation_period = 5.2\n",
        "  beta = 1 / incubation_period\n",
        "  delta = 1 / recovery_period\n",
        "\n",
        "  s,e,i,r = x\n",
        "  \n",
        "  ds = -s*i*R_eff*delta\n",
        "  de = s*i*R_eff*delta - e*beta\n",
        "  di = e*beta - i*delta\n",
        "  dr = i*delta\n",
        "  return ds, de, di, dr\n",
        "\n",
        "def solve(R_eff, time, x_0):\n",
        "  G = lambda x, t: F(x, R_eff)\n",
        "  s_new, e_new, i_new, r_new = odeint(G, x_0, time).transpose()\n",
        "  return s_new, e_new, i_new, r_new"
      ],
      "execution_count": 16,
      "outputs": []
    },
    {
      "cell_type": "code",
      "metadata": {
        "id": "crw0NjlINAFh",
        "colab_type": "code",
        "colab": {}
      },
      "source": [
        "#Initial conditions\n",
        "s_0 = S/N\n",
        "e_0 = E/N\n",
        "i_0 = I/N\n",
        "r_0 = R/N\n",
        "x_0 = s_0, i_0, e_0, r_0\n",
        "\n",
        "#Try different values of R_eff\n",
        "trajectories = {}\n",
        "#for R_eff in np.arange(0.5,6,0.5):\n",
        "for R_eff in np.arange(0.5, 6, 0.5):\n",
        "  #Simulate every minute\n",
        "  steps_per_day = 24*60*60\n",
        "  time = np.linspace(0, 182, steps_per_day)\n",
        "  s_traj,e_traj,i_traj,r_traj = solve(R_eff, time, x_0)\n",
        "  trajectories[R_eff]=i_traj"
      ],
      "execution_count": null,
      "outputs": []
    },
    {
      "cell_type": "code",
      "metadata": {
        "id": "toppIMl1TL33",
        "colab_type": "code",
        "colab": {}
      },
      "source": [
        "#PLOT graph\n"
      ],
      "execution_count": null,
      "outputs": []
    }
  ]
}